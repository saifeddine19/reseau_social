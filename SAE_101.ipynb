{
 "cells": [
  {
   "cell_type": "markdown",
   "metadata": {
    "deletable": false,
    "editable": false,
    "run_control": {
     "frozen": true
    }
   },
   "source": [
    "# <center> Etude de communautés dans un réseau social</center>\n",
    "<center> SAE 1.01 / 2024 - 25 </center>\n",
    "\n"
   ]
  },
  {
   "cell_type": "markdown",
   "metadata": {
    "deletable": false,
    "editable": false,
    "run_control": {
     "frozen": true
    }
   },
   "source": [
    "Cette SAE est à faire en **binôme**.\n",
    "\n",
    "**Calendrier**\n",
    "- Un contrôle de 2h en lien avec le contenu de cette SAE aura lieu le mercredi **30 octobre** 2024.\n",
    "- Le projet est à rendre le mardi **29 octobre** 2024. Les modalités de rendu vous seront précisées par votre enseignant.\n",
    "\n",
    "**Evaluation**\n",
    "- Le projet comptera pour 40% de la note de SAE 1.01. <BR>\n",
    "    Il sera particulièrement tenu compte de la qualité du code, des **commentaires** et **docstrings**, des fonctions de **tests unitaires** pour les fonctions renvoyant des résultats. <BR><BR>\n",
    "    \n",
    "- Le contrôle compte pour 60% de la note finale."
   ]
  },
  {
   "cell_type": "markdown",
   "metadata": {
    "deletable": false,
    "editable": false,
    "run_control": {
     "frozen": true
    }
   },
   "source": [
    "## <center> Sujet </center>\n",
    "\n",
    "Une *communauté* est un ensemble de personnes développant des interactions dans un réseau social.\n",
    "\n",
    "Dans ce projet, on étudie des communautés modélisées sous différentes formes. Pour cela, on développe des fonctions permettant d'extraire des informations relatives à ces réseaux. "
   ]
  },
  {
   "cell_type": "markdown",
   "metadata": {
    "deletable": false,
    "editable": false,
    "run_control": {
     "frozen": true
    }
   },
   "source": [
    "On modélise, dans un premier temps, les interactions entre personnes dans un tableau `amis` de chaînes de caractères contenant les prénoms des membres du réseau et tel que `amis[2*i]` a des interactions avec `amis[2*i+1]`.\n",
    "\n",
    "On suppose que chaque interaction n'est décrite qu'une seule fois dans le tableau, et qu'une personne n'a pas d'interaction avec elle-même.\n",
    "\n",
    "**Exemple** : "
   ]
  },
  {
   "cell_type": "code",
   "execution_count": 24,
   "metadata": {
    "deletable": false,
    "editable": false
   },
   "outputs": [],
   "source": [
    "amis = [\"Alice\", \"Bob\", \"Alice\", \"Charlie\", \"Bob\", \"Denis\"]"
   ]
  },
  {
   "cell_type": "markdown",
   "metadata": {
    "deletable": false,
    "editable": false,
    "run_control": {
     "frozen": true
    }
   },
   "source": [
    "Ici, \n",
    "- Alice a des interactions Bob et Charlie, \n",
    "- Bob a des intractions avec Alice et Denis,\n",
    "- Charlie a des interactions avec Alice,\n",
    "- Denis a des interactions avec Bob."
   ]
  },
  {
   "cell_type": "markdown",
   "metadata": {
    "deletable": false,
    "editable": false,
    "run_control": {
     "frozen": true
    }
   },
   "source": [
    "#### Question préliminaire : Modélisation d'un réseau par un tableau\n",
    "\n",
    "Muriel, Yasmine et Joël sont amis. Yasmine est amie avec Thomas. \n",
    "Joël, Nassim, Andrea et Ali sont amis. Thomas est ami de Daria et Carole. Thierry, Axel et Léo sont amis. Léo est ami de Valentin qui est ami d'Andrea.\n",
    "\n",
    "- Construire un tableau `p_amis` qui modélise ce réseau d'amitié en selon le principe qui vient d'être décrit."
   ]
  },
  {
   "cell_type": "code",
   "execution_count": 81,
   "metadata": {},
   "outputs": [],
   "source": [
    "p_amis = [\"Muriel\",\"Yasmine\",\"Muriel\",\"Joël\",\"Yasmine\",\"Joël\",\"Yasmine\",\"Thomas\",\"Joël\"\n",
    "         ,\"Nassim\",\"Joël\",\"Andrea\",\"Joël\",\"Ali\",\"Nassim\",\"Andrea\",\"Nassim\",\"Ali\",\"Andrea\"\n",
    "         ,\"Ali\",\"Thomas\",\"Daria\",\"Thomas\",\"Carole\",\"Thierry\",\"Axel\",\"Thierry\",\"Léo\",\"Axel\"\n",
    "         ,\"Léo\",\"Valentin\",\"Valentin\",\"Andrea\"]\n",
    "\n",
    "\n",
    "\n",
    "\n"
   ]
  },
  {
   "cell_type": "markdown",
   "metadata": {
    "deletable": false,
    "editable": false,
    "run_control": {
     "frozen": true
    }
   },
   "source": [
    "#### Question 1 : Nombre d'amis d'une personne\n",
    "\n",
    "- Étant donné un tableau `amis`, écrire une fonction `nb_amis(amis, prenom)` qui retourne le nombre d'amis de `prenom` à partir des données du tableau `amis`. "
   ]
  },
  {
   "cell_type": "code",
   "execution_count": 1,
   "metadata": {},
   "outputs": [
    {
     "name": "stdout",
     "output_type": "stream",
     "text": [
      "la fonction nb_amis fonctionne correctement\n"
     ]
    }
   ],
   "source": [
    "# Ce projet a été réalisé par :\n",
    "# Saif-eddine Aljane (groupe Némée)\n",
    "# Jordan Ghamba Yimga (groupe Némée)\n",
    "\n",
    "def nb_amis(amis,prenom):\n",
    "    '''\n",
    "    Retourne le nombre d'amis à partir d'un tableau\n",
    "    qui modélise les interaction entre plusieur \n",
    "    personne , ce tableau est indiquer en paramétre\n",
    "    tout le nom de la personne dont veut savoir le nombre\n",
    "    d'amis .\n",
    "    \n",
    "    Paramètre de la fonction :\n",
    "    -le paramètre (amis) est un tableau(list) .\n",
    "    -le paramètre (prenom) est un chaine de cractère(str) .\n",
    "    \n",
    "    la fonction retourne un entier(int) qui symbolyse le nombre\n",
    "    d'amis qu'a le prénom passer en paramètre.\n",
    "    \n",
    "    Exemple :\n",
    "    on a un tableau :\n",
    "    amis = [\"Alice\", \"Bob\", \"Alice\", \"Charlie\", \"Bob\", \"Denis\"]\n",
    "    en appelant la fonction :\n",
    "    >>>> nb_amis(amis,\"Alice\")\n",
    "    2\n",
    "    '''\n",
    "    \n",
    "    nb_amis = 0        # On initialise un compteur qui représente le nombre d'amis du prenom passer en paramètre\n",
    "                            \n",
    "    for personne in amis :      # On parcours le tableau amis \n",
    "        \n",
    "        if personne == prenom : # cette condition nous permet de voir quand le prenom passer en paramètre apparait\n",
    "                                \n",
    "            nb_amis += 1  # on rajoute 1 a notre compteur car a chaque foix que pernom apparait dans le tableau elle\n",
    "                          # à un amis qui la suit on peut dire que le nombre d'amis de prenom est égal au nombre de \n",
    "                          # fois que prenom apparait dans le tableau amis .        \n",
    "    \n",
    "    return nb_amis  #on retourne le nombre d'amis de prenom\n",
    "\n",
    "def test_nb_amis ():\n",
    "    amis_test =[\"Muriel\",\"Yasmine\",\"Muriel\",\"Joël\",\"Yasmine\",\"Joël\",\"Yasmine\",\"Thomas\",\"Joël\"\n",
    "                ,\"Nassim\",\"Joël\",\"Andrea\",\"Joël\",\"Ali\",\"Nassim\",\"Andrea\",\"Nassim\",\"Ali\",\"Andrea\"\n",
    "                ,\"Ali\",\"Thomas\",\"Daria\",\"Thomas\",\"Carole\",\"Thierry\",\"Axel\",\"Thierry\",\"Léo\",\"Axel\"\n",
    "                ,\"Léo\",\"Valentin\"]\n",
    "\n",
    "    assert nb_amis(amis_test,\"Muriel\") == 2\n",
    "    assert nb_amis(amis_test,\"Yasmine\") == 3\n",
    "    assert nb_amis(amis_test,\"Joël\") == 5\n",
    "    assert nb_amis(amis_test,\"Thomas\") == 3\n",
    "    print(\"la fonction nb_amis fonctionne correctement\")\n",
    "\n",
    "\n",
    "test_nb_amis ()\n",
    "\n"
   ]
  },
  {
   "cell_type": "markdown",
   "metadata": {
    "deletable": false,
    "editable": false,
    "run_control": {
     "frozen": true
    }
   },
   "source": [
    "#### Question 2 : Nombre de membres d'un réseau social \n",
    "\n",
    "- Ecrire une fonction `taille_reseau(amis)` qui à partir d'un tableau `amis`retourne le nombre de personnes distinctes participant à ce réseau social."
   ]
  },
  {
   "cell_type": "code",
   "execution_count": 2,
   "metadata": {},
   "outputs": [
    {
     "name": "stdout",
     "output_type": "stream",
     "text": [
      "la fonction taille_reseau fonctionne correctement \n"
     ]
    }
   ],
   "source": [
    "def taille_reseau (amis) :\n",
    "    '''\n",
    "    Retourne le nombre de personne distinctes participent\n",
    "    au réseaux social passer en paramètre autrement dit\n",
    "    cette fonction permet de donner le nombre d'élémént\n",
    "    distinct d'un tableau .\n",
    "    \n",
    "    Paramètre de la fonction :\n",
    "    -le paramètre (amis) est un tableau(list) .\n",
    "    \n",
    "    La fonction retourne un entier (int) qui symbolyse \n",
    "    le nombre de personnes distinctes participant au \n",
    "    réseau social amis .\n",
    "    \n",
    "    Exemple :\n",
    "    On a le tablau :\n",
    "    amis = [\"Alice\", \"Bob\", \"Alice\", \"Charlie\", \"Bob\", \"Denis\"]\n",
    "    >>>>taille_reseau (amis)\n",
    "    4\n",
    "    '''\n",
    "    \n",
    "    personne_distinctes = []   # tableau vide qui contiendra les prenom du réseau social amis sans faire de répétition\n",
    "    \n",
    "    i=0                    # On utilise une boucle while car on va créer un tableau\n",
    "    \n",
    "    while i < len(amis) :        # la fonction len() nous retourne le nombre d'élémént d'un tableau\n",
    "        \n",
    "        if amis[i] not in personne_distinctes :  # cette condition permet de nous assurer de ne pas ajouter deux fois le\n",
    "                                                 # même prenom dans le tableau personne_distinctes .\n",
    "            personne_distinctes.append(amis[i])\n",
    "        i += 1\n",
    "    nb_personne_distinctes = len(personne_distinctes) # A partir du tableau personne_distinctes on obient le nombre\n",
    "                                                      # de personne distincte grâce a len()\n",
    "        \n",
    "    return nb_personne_distinctes   # On retourne le nombre de personne distinct\n",
    "\n",
    "def test_taille_reseau() :\n",
    "    amis_test =[\"Muriel\",\"Yasmine\",\"Muriel\",\"Joël\",\"Yasmine\",\"Joël\",\"Yasmine\",\"Thomas\",\"Joël\"\n",
    "                ,\"Nassim\",\"Joël\",\"Andrea\",\"Joël\",\"Ali\",\"Nassim\",\"Andrea\",\"Nassim\",\"Ali\",\"Andrea\"\n",
    "                ,\"Ali\",\"Thomas\",\"Daria\",\"Thomas\",\"Carole\",\"Thierry\",\"Axel\",\"Thierry\",\"Léo\",\"Axel\"\n",
    "                ,\"Léo\",\"Valentin\"]\n",
    "    assert taille_reseau (amis_test) == 13\n",
    "    print (\"la fonction taille_reseau fonctionne correctement \")\n",
    "    \n",
    "\n",
    "\n",
    "test_taille_reseau()\n",
    "\n"
   ]
  },
  {
   "cell_type": "markdown",
   "metadata": {
    "deletable": false,
    "editable": false,
    "run_control": {
     "frozen": true
    }
   },
   "source": [
    "#### Question 3 :  Lecture des données d'un réseau à partir d'un fichier\n",
    "On suppose que les données sur un réseau social sont stockées dans un fichier CSV de la manière suivante :\n",
    "```\n",
    "prenom1;prenom2\n",
    "prenom3;prenom4\n",
    "prenom5;prenom6\n",
    "...\n",
    "```\n",
    "Autrement dit, chaque ligne du fichier contient une paire de prénoms séparés par un `';'` correspondant à deux personnes ayant des interactions. \n",
    "\n",
    "**NB** : Quatre fichiers CSV de ce type sont fournis dans le répertoire `files/`, il s'agit des fichiers`Communaute1.csv`, `Communaute2.csv`,`Communaute3.csv` et `Communaute4.csv`. \n",
    "Il est recommandé d'en fabriquer d'autres. \n",
    "\n",
    "- Ecrire une fonction `lecture_reseau(path)` prenant en paramètre un chemin vers un tel fichier CSV et retournant un tableau modélisant les interactions entre les personnes du fichier."
   ]
  },
  {
   "cell_type": "code",
   "execution_count": 3,
   "metadata": {},
   "outputs": [
    {
     "name": "stdout",
     "output_type": "stream",
     "text": [
      "la fonction lecture_reseau fonctionne correctement\n"
     ]
    }
   ],
   "source": [
    "def lecture_reseau(path) :\n",
    "    '''\n",
    "    Retourne un tableau qui modélise les intéraction\n",
    "    entre les personne d'un ficier CSV passer en paramètre.\n",
    "    \n",
    "    Paramètre de la fonction :\n",
    "    - le paramètre (path) symbolyse le chemin du fichier CSV dans l'arborésence des fichier\n",
    "    \n",
    "    La fonction retourne un tableau (list).\n",
    "    \n",
    "    Exemple :\n",
    "    On a le fichier CSV :\n",
    "    Communaute1_exemple.csv qui contient ce type de texte:\n",
    "    Barbra;Cloe\n",
    "    Louis;Rufino\n",
    "    Idelle;Mady\n",
    "    >>>> lecture_reseau(\"files/Communaute1.csv\")\n",
    "    [\"Barbra\",\"Cloe\",\"Louis\",\"Rufino\",\"Idelle\",\"Mady\"]\n",
    "    '''\n",
    "    \n",
    "    \n",
    "    \n",
    "    fichier = open(path)      # On ouvre le fichier\n",
    "    \n",
    "    tab_interaction = []     # tableau retourner\n",
    "    \n",
    "    tab_intermédiare =[]    #tableau qui nous permetteras d'arriver a notre objectif\n",
    "    \n",
    "    for lignes in fichier :      #On parcoure le fichier ligne par ligne grâce a la boucle for\n",
    "        \n",
    "        tab_intermédiare.append(lignes.strip().split(\";\"))\n",
    "        # On ajoute dans le tableau tab_intermédiare des tableaux de la forme [\"prenom1\",\"prénom2\"] pour chaque ligne du\n",
    "        # fichier , la fonction strip() permet de retirer les retour a la ligne en fin de ligne et la fonction split()\n",
    "        # de permet de mettre une séparation a tous les endroits ou il y a \";\".\n",
    "    i=0\n",
    "    while i<len(tab_intermédiare):\n",
    "        tab_interaction.append( tab_intermédiare[i][0])\n",
    "        tab_interaction.append( tab_intermédiare[i][1])\n",
    "        i += 1\n",
    "    # Puis pour finir on crée un tableau qui contient le tableau \n",
    "    # de la forme [[\"prenom1\",\"prénom2\"\"prénom2\"],[\"prenom3\",\"prénom4\"]]\n",
    "    # mais convertie sous la forme [\"prenom1\",\"prénom2\",\"prenom3\",\"prénom4\"]\n",
    "    \n",
    "    \n",
    "    \n",
    "    \n",
    "    fichier.close()      #On ferme le fichier\n",
    "    \n",
    "    return tab_interaction\n",
    "\n",
    "\n",
    "def test_lecture_reseau():\n",
    "    # il faut crée des fichier CSV pour les test unitaires\n",
    "    \n",
    "    fichier = open(\"Communaute_test.csv\", \"w\")\n",
    "    fichier.write(\"Yasmine;Alice\\n\"\n",
    "                  \"Thomas;Léo\\n\"\n",
    "                  \"Ali;Paul\\n\")\n",
    "    fichier.close()\n",
    "    fichier_2 = open(\"Communaute_test2.csv\", \"w\")\n",
    "    fichier_2.write(\"Barbra;Cloe\\n\"\n",
    "                    \"Louis;Rufino\\n\"\n",
    "                    \"Idelle;Mady\\n\")\n",
    "    fichier_2.close()\n",
    "     \n",
    "      # pour cela nous avans écrit des fichier CSV directement dans la fonction test grâce a la fontion wrirte()\n",
    "      # qui permet d'écrire dans un fichier déjà existant ou non et si il existe les données du fichier seront écrasés.\n",
    "        \n",
    "    assert lecture_reseau(\"Communaute_test.csv\") == [\"Yasmine\",\"Alice\",\"Thomas\",\"Léo\",\"Ali\",\"Paul\"]\n",
    "    assert lecture_reseau(\"Communaute_test2.csv\") == [\"Barbra\",\"Cloe\",\"Louis\",\"Rufino\",\"Idelle\",\"Mady\"]\n",
    "    print(\"la fonction lecture_reseau fonctionne correctement\")\n",
    "    \n",
    "test_lecture_reseau()"
   ]
  },
  {
   "cell_type": "markdown",
   "metadata": {
    "deletable": false,
    "editable": false,
    "run_control": {
     "frozen": true
    }
   },
   "source": [
    "#### Question  4 :  Données d'un réseau dupliquées dans un fichier\n",
    "On suppose toujours que les données sur un réseau social sont stockées dans un fichier CSV mais certaines lignes du fichier contiennent les mêmes informations.  \n",
    "\n",
    "**NB** : Quatre fichiers CSV de ce type sont fournis dans le répertoire `filesbis/`, il s'agit des fichiers`Communaute1bis.csv`, `Communaute2bis.csv`,`Communaute3bis.csv` et `Communaute4bis.csv`. \n",
    "Il est recommandé d'en fabriquer d'autres. \n",
    "\n",
    "- Ecrire une fonction `lecture_reseau_bis(path)` prenant en paramètre un chemin vers un tel fichier CSV et retournant un tableau modélisant les interactions entre les personnes du fichier en éliminant les répétitions."
   ]
  },
  {
   "cell_type": "code",
   "execution_count": 4,
   "metadata": {},
   "outputs": [
    {
     "name": "stdout",
     "output_type": "stream",
     "text": [
      "la fonction lecture_reseau_bis fonctionne correctement\n"
     ]
    }
   ],
   "source": [
    "def lecture_reseau_bis(path):\n",
    "    '''\n",
    "    Retourne un tableau modélisant les interactions entre les personnes du fichier (indiquez en paramétre)\n",
    "    en éliminant les répétitions.\n",
    "    \n",
    "    Paramètre de la fonction :\n",
    "    -le paramètre (path) symbolyse le chemin du fichier CSV dans l'arborésence des fichier\n",
    "    \n",
    "    La fonction retourne un tableau (list).\n",
    "    \n",
    "    Exemple :\n",
    "    on a un fichier CSV qui contient :\n",
    "    \"Yasmine;Alice\\n\"\n",
    "    \"Thomas;Léo\\n\"\n",
    "    \"Ali;Paul\\n\"\n",
    "    \"Paul;Ali\\n\"  \n",
    "    \"Tom;François\"\n",
    "    lecture_reseau_bis(fichier CSV)\n",
    "    >>>>[\"Yasmine\",\"Alice\",\"Thomas\",\"Léo\",\"Ali\",\"Paul\",\"Tom\",\"François\"]\n",
    "    \n",
    "    '''\n",
    "    interaction_final=[]\n",
    "    interactions = []\n",
    "    fichier = open(path , 'r')\n",
    "    prenoms = fichier.readlines()  # chaque ligne de fichier est ajouté au tableau prenom \n",
    "    fichier.close()\n",
    "    for ligne in prenoms :\n",
    "        prenom1 ,prenom2 = ligne.strip().split(\";\") \n",
    "        \n",
    "        # strip() permet de retirer le retour a la ligne \n",
    "        # split(\";\") permet de factionner le tableau a chaque fois \n",
    "        # qu'il y a un \";\"\n",
    "        \n",
    "        \n",
    "        existe = False \n",
    "        for interaction in interactions :\n",
    "            p1, p2 = interaction[0], interaction[1]\n",
    "            if (prenom1 == p1 and prenom2 == p2) or (prenom2 == p1 and prenom1 == p2):\n",
    "                existe = True\n",
    "        \n",
    "        if not existe :\n",
    "            interactions.append([prenom1,prenom2] )  \n",
    "            # le tableau interactions sera de la forme [[prenom1,prenom2],[prenom3,prenom4]] \n",
    "    \n",
    "    i=0\n",
    "    while i<len(interactions):     \n",
    "        \n",
    "        # cette  boucle permet de crée un tableau plus conforme a notre objectif\n",
    "        \n",
    "        interaction_final.append( interactions[i][0])\n",
    "        interaction_final.append( interactions[i][1])\n",
    "        i += 1\n",
    "        \n",
    "        # on obtient un tableau de la forme [prenom1,prenom2,prenom3,prenom4]\n",
    "    \n",
    "    return interaction_final\n",
    "\n",
    "\n",
    "def test_lecture_reseau_bis():\n",
    "    fichier_test = open(\"Communaute_test.csv\", \"w\")\n",
    "    fichier_test.write(\"Yasmine;Alice\\n\"\n",
    "                       \"Thomas;Léo\\n\"\n",
    "                       \"Ali;Paul\\n\"\n",
    "                       \"Paul;Ali\\n\"   # Doublons\n",
    "                       \"Tom;François\")\n",
    "    fichier_test.close()\n",
    "    \n",
    "  \n",
    "    assert lecture_reseau_bis(\"Communaute_test.csv\") == [\"Yasmine\",\"Alice\",\"Thomas\",\n",
    "                                                         \"Léo\",\"Ali\",\"Paul\",\"Tom\",\"François\"]\n",
    "    \n",
    "    \n",
    "    print(\"la fonction lecture_reseau_bis fonctionne correctement\")\n",
    "\n",
    "    \n",
    "\n",
    "\n",
    "\n",
    "\n",
    "\n",
    "\n",
    "\n",
    "\n",
    "\n",
    "\n",
    "\n",
    "\n",
    "test_lecture_reseau_bis()"
   ]
  },
  {
   "cell_type": "markdown",
   "metadata": {
    "deletable": false,
    "editable": false,
    "run_control": {
     "frozen": true
    }
   },
   "source": [
    "#### Question 5 : Modélisation d'un réseau par un dictionnaire\n",
    "On préfère pour la suite, utiliser une modélisation du réseau social par un dictionnaire dont les clés sont les prénoms des personnes du réseau et la valeur associé à une clé est le tableau des amis de la personne indiquée par la clé.\n",
    "\n",
    "- A partir d'un tableau `amis` modélisant les interactions entre personnes d'un réseau, écrire une fonction `dico_reseau(amis)` qui retourne un dictionnaire dont les clés sont les prénoms des membres du réseau et les valeurs le tableau de leurs amis."
   ]
  },
  {
   "cell_type": "code",
   "execution_count": 5,
   "metadata": {},
   "outputs": [
    {
     "name": "stdout",
     "output_type": "stream",
     "text": [
      "la fonction dico_reseau fonctionne correctement\n"
     ]
    }
   ],
   "source": [
    "def dico_reseau(amis):\n",
    "    '''\n",
    "    Retourne un dictionnaire dont les clé sont les noms des membre du réseau\n",
    "    et les valeurs le tableau de leurs amis.\n",
    "    \n",
    "    Paramétre de la fonction :\n",
    "    - le paramètre (amis) est un tableau(list)\n",
    "    \n",
    "     retourne :\n",
    "    - cette fonction retourne un dictionnaire.\n",
    "    \n",
    "    Exemple :\n",
    "    tab_exmple= [\"Alice\", \"Bob\", \"Alice\", \"Charlie\", \"Bob\", \"Denis\"]\n",
    "    >>>>{'Alice': ['Bob', 'Charlie'],\n",
    "         'Bob': ['Alice', 'Denis'],\n",
    "         'Charlie': ['Alice'],\n",
    "         'Denis': ['Bob']\n",
    "        }\n",
    "    '''\n",
    "    \n",
    "    \n",
    "    dico_reseau={}\n",
    "    i=0\n",
    "    while i < len(amis):\n",
    "        if amis[i] in dico_reseau :\n",
    "            dico_reseau[amis[i]].append(amis[i+1])\n",
    "            # si amis[i] est dèjà une clé de dico_reseau\n",
    "            # sa veut dire qu'un tableau qui représente la valeur\n",
    "            # de la clé amis[i] existe dèjà donc il sufit de rajouter\n",
    "            # amis[i+1] dans le tableau avec append(amis[i+1]).\n",
    "        else :\n",
    "            dico_reseau[amis[i]]=[amis[i+1]] # si c'est une nouvelle nom on crée une nouvelle clé dans dico_reseau\n",
    "            \n",
    "            #on met amis[i+1] entre crochet car on veut crée un tableau qui contiendra amis[i+1]\n",
    "        \n",
    "        # on refait la même chose mais en inversant la clé et les valeurs\n",
    "        # on fait cela car lorsque Alice est amie avec Bob , Bob est ami avec Alice .\n",
    "        if amis[i+1] in dico_reseau :\n",
    "            dico_reseau[amis[i+1]].append(amis[i])\n",
    "        else :\n",
    "            dico_reseau[amis[i+1]]=[amis[i]]\n",
    "        \n",
    "        i += 2 #on veut parcourir le tableau amis deux par deux \n",
    "    return dico_reseau       \n",
    "            \n",
    "\n",
    "def test_dico_reseau() :\n",
    "    tab_test = [\"Muriel\", \"Yasmine\",\"Muriel\", \"Joël\",\"Yasmine\", \"Joël\",\"Joël\", \"Ali\",\"Joël\",\n",
    "            \"Nassim\",\"Ali\", \"Andrea\",]\n",
    "    \n",
    "    assert dico_reseau(tab_test) == {\n",
    "                                     'Muriel': ['Yasmine', 'Joël'],\n",
    "                                     'Yasmine': ['Muriel', 'Joël'],\n",
    "                                     'Joël': ['Muriel', 'Yasmine', 'Ali', 'Nassim'],\n",
    "                                     'Ali': ['Joël', 'Andrea'],\n",
    "                                     'Nassim': ['Joël'],\n",
    "                                     'Andrea': ['Ali']\n",
    "                                    }\n",
    "    print(\"la fonction dico_reseau fonctionne correctement\")\n",
    "\n",
    "\n",
    "test_dico_reseau() "
   ]
  },
  {
   "cell_type": "markdown",
   "metadata": {},
   "source": [
    "#### Question 6 : Nombre d'amis des personnes les plus populaires\n",
    "\n",
    "- A partir d'un dictionnaire `dico_reseau` modélisant les interactions dans un réseau d'amis, écrire une fonction `nb_amis_plus_pop (dico_reseau)` qui retourne le nombre d'amis des personnes les plus populaires du réseau."
   ]
  },
  {
   "cell_type": "code",
   "execution_count": 6,
   "metadata": {},
   "outputs": [
    {
     "name": "stdout",
     "output_type": "stream",
     "text": [
      "la fonction nb_amis_plus_pop fonctionne correctement \n"
     ]
    }
   ],
   "source": [
    "def nb_amis_plus_pop (dico_reseau):\n",
    "    '''\n",
    "    Retourne le nombre d'amis des personnes les plus\n",
    "    populaire du reseau (dico_reseau) .\n",
    "    \n",
    "    paramètre de la fonction :\n",
    "    - (dico_reseau) qui est un dictionnaire qui modélise\n",
    "    un réseau social .\n",
    "    \n",
    "     retourne :\n",
    "    - cette fonction retourne un tableau(list).\n",
    "    \n",
    "    Exemple :\n",
    "    On a :\n",
    "    dico_reseau_exemple ={\n",
    "                          'Muriel':[\"Yasmine\",\"Joël\"],\n",
    "                          'Yasmine':[\"Muriel\",\"Joël\",\"Thomas\"],\n",
    "                          'Thomas':[\"Yasmine\",\"Daria\",\"Carole\"],\n",
    "                          'Nassim':[\"Joël\",\"Andrea\",\"Ali\"]\n",
    "                         }\n",
    "    nb_amis_plus_pop (dico_reseau_exemple)\n",
    "    >>>> 3\n",
    "    '''\n",
    "    # Comme là où les personnes les plus populaires ont le nombre d'amis\n",
    "    # le plus élevé, il suffit de déterminer le nombre maximal d'amis\n",
    "    # qu'une personne peut avoir dans le réseau\n",
    "    nb_amis_max = 0\n",
    "    for personne in dico_reseau.values(): \n",
    "    \n",
    "    # la fonction \"values()\" nous permet de faire en sorte que\n",
    "    # \"personne\" soit équivalent au valeur de \"dico_reseau\".\n",
    "    \n",
    "        if len(personne) > nb_amis_max :\n",
    "            \n",
    "             # ainsi grâce à la boucle for et à la condition on parvient a comparé la taille des\n",
    "             # tableau de chaque valeurs (len(personne)) \n",
    "            \n",
    "            nb_amis_max = len(personne) \n",
    "            # si la condition est vrai \"nb_amis_max\" prend la valeur de \"len(personne)\"\n",
    "            \n",
    "    return nb_amis_max    \n",
    "\n",
    "\n",
    "\n",
    "\n",
    "\n",
    "\n",
    "\n",
    "\n",
    "\n",
    "def test_nb_amis_plus_pop():\n",
    "    dico_reseau_test = {\n",
    "                        'Muriel':[\"Yasmine\",\"Joël\"],\n",
    "                        'Yasmine':[\"Muriel\",\"Joël\",\"Thomas\"],\n",
    "                        'Joël':[\"Yasmine\",\"Muriel\",\"Andrea\",\"Nassim\",\"Ali\"],\n",
    "                        'Thomas':[\"Yasmine\",\"Daria\",\"Carole\"],\n",
    "                        'Nassim':[\"Joël\",\"Andrea\",\"Ali\"],\n",
    "                        'Andrea':[\"Joël\",\"Nassim\",\"Ali\",\"Valentin\"],\n",
    "                        'Ali':[\"Nassim\",\"Andrea\",\"Joël\"],\n",
    "                        'Daria':[\"Thomas\"],\n",
    "                        'Carole':[\"Thomas\"],\n",
    "                        'Thierry':[\"Axel\",\"Léo\"],\n",
    "                        'Axel':[\"Thierry\",\"Léo\"],\n",
    "                        'Léo':[\"Alex\",\"Thierry\"],\n",
    "                        'Valentin':[\"Léo\",\"Andrea\"]\n",
    "                       }\n",
    "    \n",
    "    dico_reseau_test_2 = {\n",
    "                          'Muriel':[\"Yasmine\",\"Joël\"],\n",
    "                          'Yasmine':[\"Muriel\",\"Joël\",\"Thomas\"],\n",
    "                          'Thomas':[\"Yasmine\",\"Daria\",\"Carole\"],\n",
    "                          'Nassim':[\"Joël\",\"Andrea\",\"Ali\"],\n",
    "                          'Ali':[\"Nassim\",\"Andrea\",\"Joël\"],\n",
    "                          'Daria':[\"Thomas\"],\n",
    "                          'Carole':[\"Thomas\"],\n",
    "                          'Thierry':[\"Axel\",\"Léo\"],\n",
    "                          'Axel':[\"Thierry\",\"Léo\"],\n",
    "                          'Léo':[\"Alex\",\"Thierry\"],\n",
    "                          'Valentin':[\"Léo\",\"Andrea\"]\n",
    "                         }\n",
    "    \n",
    "    assert nb_amis_plus_pop(dico_reseau_test) == 5\n",
    "    assert nb_amis_plus_pop(dico_reseau_test_2) == 3\n",
    "    print(\"la fonction nb_amis_plus_pop fonctionne correctement \")\n",
    "\n",
    "\n",
    "test_nb_amis_plus_pop()\n"
   ]
  },
  {
   "cell_type": "markdown",
   "metadata": {
    "deletable": false,
    "editable": false,
    "run_control": {
     "frozen": true
    }
   },
   "source": [
    "#### Question 7 : Personnes les plus populaires\n",
    "\n",
    "- A partir d'un dictionnaire `dico_reseau` modélisant les interactions dans un réseau d'amis, écrire une fonction `les_plus_pop (dico_reseau)` qui retourne un tableau contenant les prénoms de toutes les personnes les plus populaires du réseau."
   ]
  },
  {
   "cell_type": "code",
   "execution_count": 7,
   "metadata": {},
   "outputs": [
    {
     "name": "stdout",
     "output_type": "stream",
     "text": [
      "la fonction les_plus_pop fonctionne correctement\n"
     ]
    }
   ],
   "source": [
    "def les_plus_pop (dico_reseau) :\n",
    "    '''\n",
    "    Retourne un tableau qui contient les nom des personne\n",
    "    les plus populaire autrement dis cette fonction \n",
    "    retourne les nom des personne qui possède le plus\n",
    "    d'intéraction .\n",
    "    \n",
    "    paramètre de la fonction :\n",
    "    - (dico_reseau) qui est un dictionnaire qui modélise\n",
    "    un réseau social .\n",
    "    \n",
    "    retourne :\n",
    "    - cette fonction retourne un tableau(list).\n",
    "    \n",
    "    Exemple :\n",
    "    dico_reseau ={\n",
    "                  'Muriel':[\"Yasmine\",\"Joël\"],\n",
    "                  'Yasmine':[\"Muriel\",\"Joël\",\"Thomas\"],\n",
    "                  'Thomas':[\"Yasmine\",\"Daria\",\"Carole\"],\n",
    "                  'Nassim':[\"Joël\",\"Andrea\",\"Ali\"],\n",
    "                 }\n",
    "    les_plus_pop(dico_reseau)\n",
    "    >>>> [\"Yasmine\",\"Thomas\"]\n",
    "    '''\n",
    "\n",
    "    personne_plus_pop =[]     # tableau vide ou seront stocker le nom des personne les plus populaire\n",
    "    \n",
    "    nb_amis_max = nb_amis_plus_pop (dico_reseau)\n",
    "    # On veut déterminer le nombre maximum d'amis qu'a une personne dans le dico_reseau\n",
    "    # pour cela on fait appel a la fonction \"nb_amis_plus_pop\"(question 6)qui permet de\n",
    "    # connaitre le nombre d'amis des personnes les plus populaires du réseau\n",
    "    # qui dans notre cas sera \"nb_amis_max\".\n",
    "    \n",
    "    for personne in  dico_reseau:\n",
    "        if len(dico_reseau[personne]) ==  nb_amis_max :\n",
    "        # \"len(dico_reseau[personne])\" est un valeur entière (int)\n",
    "        # plus précisement c'est la taille du tableau qui a pour\n",
    "        # \"personne\" et qui est dans dico_reseau.\n",
    "        \n",
    "            personne_plus_pop.append(personne)\n",
    "            # ainsi si la condition précédente est vrai on rajoute \"personne\"\n",
    "            # dans le tableau \"personne_plus_pop\".\n",
    "    \n",
    "    return personne_plus_pop\n",
    "\n",
    "\n",
    "\n",
    "\n",
    "\n",
    "\n",
    "    \n",
    "def test_les_plus_pop():\n",
    "    \n",
    "    # cas où il y a deux personnes qui sont les plus populaires\n",
    "    dico_test_1 = {'Alice':[\"Thomas\",\"Léo\",\"François\"],\n",
    "                   'Thomas':[\"Alice\",\"Tom\"],\n",
    "                   'Léo':[\"Alice\",\"François\",\"Tom\"],\n",
    "                   'François':[\"Léo\",\"Alice\"],\n",
    "                   'Tom':[\"Léo\",\"Thomas\"]}\n",
    "    \n",
    "    # cas où toutes les personnes ont le même nombre d'amis\n",
    "    dico_test_2 = {'Alice':[\"Thomas\",\"Léo\"],\n",
    "                   'Thomas':[\"Alice\",\"Léo\"],\n",
    "                   'Léo':[\"Thomas\",\"Alice\"],\n",
    "                   'François':[\"Tom\",\"Sam\"],\n",
    "                   'Tom':[\"François\",\"Sam\"],\n",
    "                   'Sam':[\"Sam\",\"François\"]}\n",
    "    \n",
    "    # cas où une seul personne est la plus populaire\n",
    "    dico_test_3 = {'Muriel':[\"Yasmine\",\"Joël\"],\n",
    "                    'Yasmine':[\"Muriel\",\"Joël\",\"Thomas\"],\n",
    "                    'Joël':[\"Yasmine\",\"Muriel\",\"Andrea\",\"Nassim\",\"Ali\"],\n",
    "                    'Thomas':[\"Yasmine\",\"Daria\",\"Carole\"],\n",
    "                    'Nassim':[\"Joël\",\"Andrea\",\"Ali\"],\n",
    "                    'Andrea':[\"Joël\",\"Nassim\",\"Ali\",\"Valentin\"],\n",
    "                    'Ali':[\"Nassim\",\"Andrea\",\"Joël\"],\n",
    "                    'Daria':[\"Thomas\"],\n",
    "                    'Carole':[\"Thomas\"],\n",
    "                    'Thierry':[\"Axel\",\"Léo\"],\n",
    "                    'Axel':[\"Thierry\",\"Léo\"],\n",
    "                    'Léo':[\"Alex\",\"Thierry\"],\n",
    "                    'Valentin':[\"Léo\",\"Andrea\"]\n",
    "                   }\n",
    "    assert les_plus_pop(dico_test_1) == [\"Alice\",\"Léo\"]\n",
    "    assert les_plus_pop(dico_test_2) == [\"Alice\",\"Thomas\",\"Léo\",\"François\",\"Tom\",\"Sam\"]\n",
    "    assert les_plus_pop(dico_test_3) == [\"Joël\"]\n",
    "    print(\"la fonction les_plus_pop fonctionne correctement\")\n",
    "\n",
    "test_les_plus_pop()\n"
   ]
  }
 ],
 "metadata": {
  "kernelspec": {
   "display_name": "Python 3 (ipykernel)",
   "language": "python",
   "name": "python3"
  },
  "language_info": {
   "codemirror_mode": {
    "name": "ipython",
    "version": 3
   },
   "file_extension": ".py",
   "mimetype": "text/x-python",
   "name": "python",
   "nbconvert_exporter": "python",
   "pygments_lexer": "ipython3",
   "version": "3.12.3"
  },
  "latex_envs": {
   "LaTeX_envs_menu_present": true,
   "autoclose": false,
   "autocomplete": true,
   "bibliofile": "biblio.bib",
   "cite_by": "apalike",
   "current_citInitial": 1,
   "eqLabelWithNumbers": true,
   "eqNumInitial": 1,
   "hotkeys": {
    "equation": "Ctrl-E",
    "itemize": "Ctrl-I"
   },
   "labels_anchors": false,
   "latex_user_defs": false,
   "report_style_numbering": false,
   "user_envs_cfg": false
  }
 },
 "nbformat": 4,
 "nbformat_minor": 2
}
