{
 "cells": [
  {
   "cell_type": "markdown",
   "id": "f896b25e",
   "metadata": {},
   "source": [
    "# `Comparaison_comu`"
   ]
  },
  {
   "cell_type": "markdown",
   "id": "4241793d",
   "metadata": {},
   "source": [
    "# Comparaison théorique (question 2 )"
   ]
  },
  {
   "cell_type": "markdown",
   "id": "b6c01801",
   "metadata": {},
   "source": [
    "## Présentation des fonctions `cree_reseau` et `dico_reseau` :"
   ]
  },
  {
   "cell_type": "markdown",
   "id": "f39e93b3",
   "metadata": {},
   "source": [
    "### La fonction `cree_reseau` :"
   ]
  },
  {
   "cell_type": "code",
   "execution_count": 3,
   "id": "55072a43",
   "metadata": {},
   "outputs": [],
   "source": [
    "def cree_reseau (t) :\n",
    "\tdico_reseau = {}    \n",
    "\t\n",
    "\ti = 0\n",
    "\twhile i < len(t) -1 :\n",
    "\t\tcouple_amis=( t[i] ,t[i+1] )          \n",
    "\t\t\n",
    "\t\tif couple_amis[0] not in dico_reseau :     \n",
    "\t\t\tdico_reseau[couple_amis[0]] = []  \n",
    "\t\tif couple_amis[1] not in dico_reseau :      \n",
    "\t\t\tdico_reseau[couple_amis[1]] = []\n",
    "\n",
    "\t\tdico_reseau[couple_amis[0]].append(couple_amis[1])\n",
    "\n",
    "\t\tdico_reseau[couple_amis[1]].append(couple_amis[0])\n",
    "\t\t\n",
    "\t\ti += 2\n",
    "\treturn dico_reseau"
   ]
  },
  {
   "cell_type": "markdown",
   "id": "a0de33fd",
   "metadata": {},
   "source": [
    "### Les fonctions `dico_reseau` ,`personne` ,`ses_amis` (version du corriger) :"
   ]
  },
  {
   "cell_type": "code",
   "execution_count": 4,
   "id": "836b7047",
   "metadata": {},
   "outputs": [],
   "source": [
    "\n",
    "# dico_reseau ,personne ,ses_amis (version de la corretion) :\n",
    "def personnes(amis):\n",
    "    \"\"\"\n",
    "    retourne le tableau des différentes personnes du tableau amis\n",
    "    \"\"\"\n",
    "    personnes=[]\n",
    "    i=0\n",
    "    while i<len(amis):\n",
    "        if amis[i] not in personnes:\n",
    "            personnes.append(amis[i])\n",
    "        i+=1\n",
    "    return personnes\n",
    "\n",
    "def ses_amis(amis, prenom):\n",
    "    \"\"\"\n",
    "    Retourne le tableau des amis de prenom\n",
    "    \"\"\"\n",
    "    ses_amis=[]\n",
    "    i=0\n",
    "    while i<len(amis)/2:\n",
    "        if amis[2*i]== prenom :\n",
    "            ses_amis.append(amis[2*i+1])\n",
    "        elif amis[2*i+1]==prenom :\n",
    "            ses_amis.append(amis[2*i])\n",
    "        i+=1\n",
    "    return ses_amis\n",
    "\n",
    "\n",
    "#version non optimisée \n",
    "def dico_reseau(amis):\n",
    "    reseau={}\n",
    "    # membres du réseau \n",
    "    pers=personnes(amis)\n",
    "    # construction du dictionnaire\n",
    "    i=0\n",
    "    while i<len(pers):\n",
    "        reseau[pers[i]]=ses_amis(amis,pers[i])\n",
    "        i+=1\n",
    "    return reseau\n"
   ]
  },
  {
   "cell_type": "markdown",
   "id": "ea1b5215",
   "metadata": {},
   "source": [
    "Nous allons comparer les fonctions `cree_reseau` et `dico_reseau` (implémentées durant la SAE.101).\n",
    "\n",
    "La fonction `cree_reseau` crée un réseau qui modélise les interactions entre différentes personnes à partir d'un tableau d'amis. Elle fait cela en traversant le tableau d'amis une seule fois, et pour chaque couple d'amis (a, b), ajoute la personne b dans la liste d'amis de la personne a et ajoute a dans la liste des amis b.\n",
    "\n",
    "La fonction `dico_reseau` crée le même type de réseau que la fonction `cree_reseau` mais d'une manière différente car elle fait appel à deux autres fonctions (`personne` et`ses_amis`). Elle identifie d'abord toutes les personnes uniques grâce à la fonction `personnes`, puis pour chaque personne, elle utilise la fonction `ses_amis` pour trouver tous ses amis et pour finir elle construit un dictionnaire (le réseau) où chaque clé est une personne et la valeur est la liste de ses amis."
   ]
  },
  {
   "cell_type": "markdown",
   "id": "2489c5e9",
   "metadata": {},
   "source": [
    "## Comparaison entre `cree_reseau` et `dico_reseau`:"
   ]
  },
  {
   "cell_type": "markdown",
   "id": "7913f7e0",
   "metadata": {},
   "source": [
    "La complexité de la fonction `cree_reseau` est linéaire `O(n)` car dans cette fonction on ne parcourt qu'une seule fois le tableau des amis donc on n'utilise qu'une seule boucle. De plus, cette fonction ne fait appel à aucune autre fonction.\n",
    "\n",
    "La complexité de la fonction `dico_reseau` est quadratique `O(n²)`car cette fonction parcours le tableau des personnes du réseau (tableau créé par la fonction `personne` qui parcours le tableau mis en paramètre), puis reparcourt le tableau des amis (celui qui est en paramètre) pour déterminer pour chaque personne du groupe leurs relations. Donc cette fonction possède une boucle imbriquée et fait appel à deux autres fonctions qui sont elles-mêmes de complexité linéaire.\n",
    "\n",
    "Ainsi, on peut déduire de cette comparaison théorique que la fonction `cree_reseau` est plus efficace et rapide que la fonction `dico_reseau` car elle a une complexité de `O(n)` alors que `dico_resau` a une complexité de `O(n²)`et que la fonction `cree_reseau` ne fait pas appel à d'autres fonctions."
   ]
  },
  {
   "cell_type": "markdown",
   "id": "be45d4ff",
   "metadata": {},
   "source": [
    "# Comparaison pratique (question 2 )"
   ]
  },
  {
   "cell_type": "markdown",
   "id": "961c18e3",
   "metadata": {},
   "source": [
    "Pour comparer de façon partielle nos deux fonctions, nous allons déterminer le temps moyen d'exécution de chacune de nos fonctions. Pour cela, on crée les fonctions `mesure_cree_reseau` et `mesure_dico_reseau`:"
   ]
  },
  {
   "cell_type": "code",
   "execution_count": 5,
   "id": "71371da9",
   "metadata": {},
   "outputs": [
    {
     "name": "stdout",
     "output_type": "stream",
     "text": [
      "Le temps d'execution moyen de la fonction cree_reseau 0.008 ms\n",
      "Le temps d'execution moyen de la fonction dico_reseau 0.036 ms\n"
     ]
    }
   ],
   "source": [
    "from time import time\n",
    "\n",
    "tab_amis=[\n",
    "          \"Alice\", \"Bob\",\n",
    "          \"Alice\", \"Charlie\",\n",
    "          \"Bob\", \"David\",\n",
    "          \"Charlie\", \"Emma\",\n",
    "          \"David\", \"Emma\",\n",
    "          \"Emma\", \"Frank\",\n",
    "          \"Frank\", \"George\",\n",
    "          \"George\", \"Hannah\",\n",
    "          \"Alice\", \"Hannah\",\n",
    "          \"Charlie\", \"David\",\n",
    "          \"Alice\", \"Emma\",\n",
    "          \"Emma\", \"Ivy\",\n",
    "          \"Frank\", \"Jack\",\n",
    "          \"Jack\", \"Charlie\",\n",
    "          \"Hannah\", \"Ivy\",\n",
    "          \"Bob\", \"Ivy\",\n",
    "          \"David\", \"Jack\"\n",
    "         ]\n",
    "\n",
    "\n",
    "\n",
    "def mesure_cree_reseau(tab_amis):\n",
    "\n",
    "    nb_mesures = 10000\n",
    "    \n",
    "    tic = time()       # top départ\n",
    "    \n",
    "    # On fait nb_messures decalages circulaires avec decalage1\n",
    "    i = 0\n",
    "    while i < nb_mesures:\n",
    "        cree_reseau(tab_amis)\n",
    "        i+=1\n",
    "    \n",
    "    tac = time()        \n",
    "    # arrêt du chronomètre\n",
    "    \n",
    "    # On fait la moyenne des temps d'exécutions (ms) des nb_mesures exécutions et on arrondit au millième\n",
    "    return round(1000*(tac-tic) / nb_mesures, 3)\n",
    "\n",
    "\n",
    "def mesure_dico_reseau(tab_amis):\n",
    "\n",
    "    nb_mesures = 10000\n",
    "    \n",
    "    tic = time()      \n",
    "    \n",
    "    i = 0\n",
    "    while i < nb_mesures:\n",
    "        dico_reseau(tab_amis)\n",
    "        i+=1\n",
    "    \n",
    "    tac = time()        \n",
    "   \n",
    "    return round(1000*(tac-tic) / nb_mesures, 3)\n",
    "\n",
    "\n",
    "\n",
    "temps_cree_reseau = mesure_cree_reseau(tab_amis)\n",
    "temps_dico_reseau = mesure_dico_reseau(tab_amis)\n",
    "print(f\"Le temps d'execution moyen de la fonction cree_reseau {temps_cree_reseau} ms\" )\n",
    "print(f\"Le temps d'execution moyen de la fonction dico_reseau {temps_dico_reseau} ms\" )"
   ]
  },
  {
   "cell_type": "markdown",
   "id": "2cf7b825",
   "metadata": {},
   "source": [
    "En exécutant le programme juste au-dessus, on constate que la fonction `cree_reseau` est exécutée beaucoup plus rapidement que la fonction`dico_reseau`.\n",
    "Pour se faire une idée de la différence de vitesse d'exécution, voici les chiffres que nous avons trouvés lors de la création de ce Jupyter notebook :\n",
    "    \n",
    "- Le temps d'exécution moyen de la fonction cree_reseau est de 0.007 ms\n",
    "    \n",
    "- Le temps d'exécution moyen de la fonction dico_reseau est de 0.032 ms\n",
    "\n",
    "On constate que la fonction `cree_reseau` est plus quatre fois plus rapide que la fonction `dico_reseau`."
   ]
  },
  {
   "cell_type": "markdown",
   "id": "6103e6f7",
   "metadata": {},
   "source": [
    "# Comparaison théorique (question 11 )"
   ]
  },
  {
   "cell_type": "markdown",
   "id": "c9181ab2",
   "metadata": {},
   "source": [
    "## Presentation des fonctions `comu_dans_reseau` et `comu_dans_amis` : "
   ]
  },
  {
   "cell_type": "code",
   "execution_count": 9,
   "id": "432e7292",
   "metadata": {},
   "outputs": [],
   "source": [
    "from comu import ech,nb_amis,tri_popul,liste_personne,sont_amis_de \n",
    "# on importe tout les fonction nécessaire a l'éxecution des fonction comu_dans_reseau et comu_dans_amis\n",
    "#depuis le fichier comu.py\n"
   ]
  },
  {
   "cell_type": "code",
   "execution_count": 12,
   "id": "a22f8d87",
   "metadata": {},
   "outputs": [],
   "source": [
    "def comu_dans_reseau (reseau):\n",
    "    \n",
    "    groupe_nt=liste_personne(reseau) # liste des personne du reseau\n",
    "    \n",
    "    groupe = tri_popul(groupe_nt,reseau) # on trie les personne du reseau par ordre décroissant \n",
    "                                         # par rapport a leur nombre d'amis\n",
    "    \n",
    "    #puis on applique l'alghorithme de construction de la question 7 (la fonction comu)\n",
    "    comu =[]            \n",
    "    comu.append(groupe[0])   \n",
    "    for personne in groupe:\n",
    "        if sont_amis_de (personne,comu,reseau):\n",
    "            comu.append(personne)\n",
    "    return comu \n",
    "# fonction comu_dans_amis modifie pour être appliquer a un des personne les plus populaire\n",
    "\n",
    "def comu_dans_amis(reseau):\n",
    "    # pour dèterminer la personne la plus populaire \n",
    "    nb_amis_max=0\n",
    "    personne_avc_plus_amis=\"\"\n",
    "    for personne in reseau.keys():\n",
    "        n_amis=nb_amis(personne,reseau)\n",
    "        if n_amis > nb_amis_max :\n",
    "            nb_amis_max=n_amis\n",
    "            personne_avc_plus_amis=personne\n",
    "        \n",
    "    # créé la commu maximal par rapport a la personne la plus populaire   \n",
    "    comu = [personne_avc_plus_amis]\n",
    "    amis_trier=tri_popul(reseau[personne_avc_plus_amis],reseau)\n",
    "    for amis in amis_trier:\n",
    "        if sont_amis_de (amis,comu,reseau):\n",
    "            comu.append(amis)\n",
    "    return comu "
   ]
  },
  {
   "cell_type": "markdown",
   "id": "596d9fd2",
   "metadata": {},
   "source": [
    "La fonction `comu_dans_reseau`commence par trier les individus du réseau en fonction du nombre d'amis qu'ils ont. La personne la plus populaire  sera ainsi placée en tête de liste.La fonction commence avec une communauté vide et vérifie si la personne en question peut rejoindre la communauté. Pour qu'une personne soit ajoutée à cette communauté, elle doit être en relation avec la personne la plus populaire .\n",
    "\n",
    "Cette version de la fonction`comu_dans_amis`permet aussi de construire une communauté maximal mais d'une autre façon  elle determine d'abord l'une des personne les plus populaire du reseau pis l'ajoute dans la communauté puis examine les amis de la personne la plus populaire dans l'ordre décroissant pour déterminer si il peuvent intégerer la communauté ."
   ]
  },
  {
   "cell_type": "markdown",
   "id": "76ebb164",
   "metadata": {},
   "source": [
    "## Comparaison entre `comu_dans_reseau` et `comu_dans_amis`"
   ]
  },
  {
   "cell_type": "markdown",
   "id": "2f25557d",
   "metadata": {},
   "source": [
    "La complexité de la fonction `comu_dans_reseau` est quadratique car elle possède deux boucles imbriquées, une explicite (la boucle for avec la fonction `sont_amis_de`) et la fonction `tri_popul` possède une boucle imbriquée aussi. Donc la complexité de la fonction `comu_dans_reseau` est de O(n²).\n",
    "\n",
    "La complexité de la fonction `comu_dans_amis` est quadratique car elle possède trois boucles imbriquant la suite des autres. La boucle imbriquée qui contient la fonction `nb_amis`, la fonction `tri_popul`, et la boucle imbriquée qui contient la fonction `sont_amis_de`. Donc la complexité de la fonction `comu_dans_amis` est de O(n²).\n",
    "\n",
    "Ainsi, ces deux fonctions ont la même complexité, mais la fonction `comu_dans_amis`est plus efficace car elle se concentre seulement sur les amis de la personne la plus populaire alors que la fonction `comu_dans_reseau`traite tout les personne du reseau . Pour le confirmer, faisons la comparaison pratique sur un le reseau obtenue par `cree_reseau(tab_amis)`qui peut être qualifier de grand réseau ."
   ]
  },
  {
   "cell_type": "markdown",
   "id": "5e56cdc3",
   "metadata": {},
   "source": [
    "# Comparaison pratique (question 11)"
   ]
  },
  {
   "cell_type": "markdown",
   "id": "8cac449a",
   "metadata": {},
   "source": [
    "Pour comparer de façon partielle nos deux fonctions, nous allons déterminer le temps moyen d'exécution de chacune de nos fonctions. Pour cela, on crée les fonctions `mesure_comu_dans_reseau`et `mesure_comu_dans_amis`:"
   ]
  },
  {
   "cell_type": "code",
   "execution_count": 13,
   "id": "a721b4cf",
   "metadata": {},
   "outputs": [
    {
     "name": "stdout",
     "output_type": "stream",
     "text": [
      "Le temps d'execution moyen de la fonction comu_dans_reseau 0.025 ms\n",
      "Le temps d'execution moyen de la fonction comu_dans_amis 0.009 ms\n"
     ]
    }
   ],
   "source": [
    "# On crée un reseau avec la fonction cree_reseau et qui a pour paramètre tab_amis \n",
    "reseau = cree_reseau(tab_amis)\n",
    "\n",
    "\n",
    "def mesure_comu_dans_reseau(reseau):\n",
    "\n",
    "    nb_mesures = 10000\n",
    "    \n",
    "    tic = time()      \n",
    "    \n",
    "    i = 0\n",
    "    while i < nb_mesures:\n",
    "        comu_dans_reseau(reseau)\n",
    "        i+=1\n",
    "    \n",
    "    tac = time()        \n",
    "   \n",
    "    return round(1000*(tac-tic) / nb_mesures, 3)\n",
    "\n",
    "def mesure_comu_dans_amis(reseau):\n",
    "\n",
    "    nb_mesures = 10000\n",
    "    \n",
    "    tic = time()      \n",
    "    \n",
    "    i = 0\n",
    "    while i < nb_mesures:\n",
    "        comu_dans_amis(reseau)\n",
    "        i+=1\n",
    "    \n",
    "    tac = time()        \n",
    "   \n",
    "    return round(1000*(tac-tic) / nb_mesures, 3)\n",
    "\n",
    "\n",
    "\n",
    "temps_comu_dans_reseau = mesure_comu_dans_reseau(reseau)\n",
    "temps_comu_dans_amis = mesure_comu_dans_amis(reseau)\n",
    "print(f\"Le temps d'execution moyen de la fonction comu_dans_reseau {temps_comu_dans_reseau} ms\" )\n",
    "print(f\"Le temps d'execution moyen de la fonction comu_dans_amis {temps_comu_dans_amis} ms\" )"
   ]
  },
  {
   "cell_type": "markdown",
   "id": "635567fc",
   "metadata": {},
   "source": [
    "On constate que la fonction `comu_dans_amis` est plus rapide que `comu_dans_reseau`.Pour se faire une idée de la différence de vitesse d'exécution, voici les chiffres que nous avons trouvés lors de la création de ce Jupyter notebook :\n",
    "- Le temps d'exécution moyen de la fonction comu_dans_reseau est de 0,023 ms\n",
    "- Le temps d'exécution moyen de la fonction comu_dans_amis est de 0,003 ms\n",
    "\n",
    "Sur ce réseau et avec ces temps d'exécution, la fonction `comu_dans_amis` est plus de sept fois plus rapide que la fonction `comu_dans_reseau`, plus le réseau est grand, plus la différence sera grande."
   ]
  },
  {
   "cell_type": "code",
   "execution_count": 35,
   "id": "85e7f8a6",
   "metadata": {},
   "outputs": [
    {
     "name": "stdout",
     "output_type": "stream",
     "text": [
      "la fonction com_dans_amis fonctionne correctement\n"
     ]
    }
   ],
   "source": [
    "from comu import *\n",
    "def test_comu_max():\n",
    "    reseau_test = {\n",
    "        \"Alice\": [\"Bob\", \"Dan\"],\n",
    "        \"Bob\": [\"Alice\", \"Carl\", \"Dan\"],\n",
    "        \"Carl\": [\"Bob\"],\n",
    "        \"Dan\": [\"Alice\", \"Bob\"]\n",
    "    }\n",
    "    communaute_max=comu_max(reseau_test)\n",
    "    \n",
    "    assert \"Alice\" in communaute_max\n",
    "    assert \"Bob\" in communaute_max\n",
    "    assert \"Dan\" in communaute_max\n",
    "    assert len(communaute_max) == 3  #On vérifie qu'il n'y a pas d'autre personne\n",
    "    print(\"la fonction com_dans_reseau fonctionne correctement\")\n",
    "    \n",
    "test_comu_dans_amis()"
   ]
  },
  {
   "cell_type": "code",
   "execution_count": null,
   "id": "4925583e",
   "metadata": {},
   "outputs": [],
   "source": []
  }
 ],
 "metadata": {
  "kernelspec": {
   "display_name": "Python 3 (ipykernel)",
   "language": "python",
   "name": "python3"
  },
  "language_info": {
   "codemirror_mode": {
    "name": "ipython",
    "version": 3
   },
   "file_extension": ".py",
   "mimetype": "text/x-python",
   "name": "python",
   "nbconvert_exporter": "python",
   "pygments_lexer": "ipython3",
   "version": "3.12.3"
  }
 },
 "nbformat": 4,
 "nbformat_minor": 5
}
